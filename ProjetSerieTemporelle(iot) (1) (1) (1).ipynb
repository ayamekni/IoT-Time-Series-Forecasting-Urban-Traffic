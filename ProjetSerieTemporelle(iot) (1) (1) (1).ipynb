{
 "cells": [
  {
   "cell_type": "markdown",
   "id": "75bb8524-f257-4226-a23f-6d6fe29e209b",
   "metadata": {},
   "source": [
    "# 1. Compréhension du métier\n",
    "\n",
    "La mobilité urbaine devient de plus en plus complexe, nécessitant des infrastructures intelligentes et une prise de décision basée sur les données.  \n",
    "Ce projet vise à accompagner la transformation des villes traditionnelles en **villes intelligentes** en facilitant une gestion intelligente du trafic.\n",
    "\n",
    "La congestion aux grands carrefours entraîne des retards, des inefficacités et une pression environnementale accrue.  \n",
    "En prévoyant les volumes de trafic **horaire** à des points névralgiques sur une période de **quatre mois**, ce projet aidera les autorités locales à **planifier de manière proactive** et à **optimiser l’allocation des ressources**.\n",
    "\n",
    "---\n",
    "\n",
    "## Justification ODD (Objectifs de Développement Durable)\n",
    "\n",
    "Ce projet est en cohérence avec les **Objectifs de Développement Durable (ODD)** définis par les Nations Unies :\n",
    "\n",
    "### 🏙️ ODD 11 – Villes et communautés durables  \n",
    "Amélioration de la mobilité urbaine et réduction de la congestion pour favoriser des villes plus sûres, inclusives et durables.\n",
    "\n",
    "### 🏗️ ODD 9 – Industrie, innovation et infrastructure  \n",
    "Utilisation de capteurs **IoT** et d’**analytique prédictive** pour encourager des infrastructures intelligentes et des opérations urbaines innovantes.\n",
    "\n",
    "### 🌍 ODD 13 – Lutte contre les changements climatiques  \n",
    "Réduction des émissions dues au trafic et de la consommation de carburant, contribuant aux efforts d’atténuation du changement climatique.\n",
    "\n",
    "---\n",
    "\n",
    " En répondant à ces objectifs, ce projet ne se contente pas de produire des prévisions —  \n",
    "il contribue à un **aménagement urbain durable et intelligent**.\n"
   ]
  },
  {
   "cell_type": "markdown",
   "id": "f766398c-b9ec-4059-9734-678e542a97ad",
   "metadata": {},
   "source": [
    "# 🎯 Cercle d’Or – Vision du Projet\n",
    "\n",
    "### 💡 POURQUOI ?  \n",
    "Réduire la congestion routière et améliorer la mobilité urbaine en développant des infrastructures plus intelligentes et une prise de décision fondée sur les données.\n",
    "\n",
    "### ⚙️ COMMENT ?  \n",
    "En modélisant les flux historiques de véhicules par heure à chaque carrefour à l’aide de techniques de prévision temporelle, notamment **SARIMA** et des modèles apparentés.\n",
    "\n",
    "### 📈 QUOI ?  \n",
    "Un système prédictif capable d’estimer le volume de trafic par carrefour, permettant à la ville de **planifier de manière proactive** et d’**optimiser l’allocation des ressources**.\n"
   ]
  },
  {
   "cell_type": "markdown",
   "id": "ba96367b-1a2c-4ae2-b4c2-1385d6502799",
   "metadata": {},
   "source": [
    "# 2. Compréhension des données\n",
    "\n",
    "## Objectif global\n",
    "Avant toute modélisation, il est essentiel de **comprendre en profondeur la structure, la qualité et le contenu des données**. Cela garantit que les étapes suivantes (préparation, modélisation, évaluation) reposent sur une base solide.\n",
    "\n",
    "Le jeu de données contient des **observations horaires du trafic routier** enregistrées sur une période allant de **novembre 2015 à juin 2017**, pour **quatre carrefours urbains (Junctions 1 à 4)**.\n",
    "\n",
    "---\n",
    "\n",
    "## Détails des données\n",
    "- **Nombre total de lignes :** 48 120  \n",
    "- **Colonnes disponibles :**\n",
    "  - `DateTime` : horodatage de chaque observation (au pas horaire)\n",
    "  - `Junction` : identifiant du carrefour (1 à 4)\n",
    "  - `Vehicles` : nombre de véhicules détectés à l'heure donnée\n",
    "  - `ID` : identifiant unique de l’observation (non utilisé dans l’analyse)\n",
    "\n",
    "---\n",
    "\n",
    "## Objectifs spécifiques de cette phase\n",
    "\n",
    "- **Parser et formater la variable `DateTime`** pour les futures manipulations temporelles (détection des tendances, saisonnalités, etc.)\n",
    "- **Résumer chaque carrefour** : nombre d’enregistrements, dates de début/fin, distribution de trafic\n",
    "- **Détecter les valeurs manquantes et aberrantes**, anomalies qui pourraient compromettre la modélisation\n",
    "- **Évaluer la qualité et la complétude** de chaque série temporelle afin de choisir les candidats les plus fiables pour la suite\n",
    "- **Visualiser le trafic horaire** sur la période pour détecter les pics, motifs récurrents ou perturbations\n",
    "\n",
    "---\n",
    "\n",
    "## Étapes réalisées\n",
    "\n",
    "- **Chargement** des données via `read_csv()`  \n",
    "- **Inspection** des variables avec `head()`, `summary()`, `str()`  \n",
    "- **Vérification de la granularité temporelle**  \n",
    "- **Analyse des valeurs uniques de `Junction`**  \n",
    "- **Visualisation du trafic** (par carrefour et dans le temps)\n",
    "\n",
    "---\n",
    "\n",
    "## Pourquoi c'est important ?\n",
    "\n",
    "Comprendre les données en amont permet de :\n",
    "- **Déterminer la faisabilité de la prévision horaire**\n",
    "- **Repérer les ruptures de série** ou incohérences\n",
    "- **Adapter la stratégie de modélisation** (modèles univariés vs multivariés, besoin d’imputation, etc.)\n",
    "- **Gagner du temps en évitant les erreurs d’interprétation ou de transformation ultérieure**\n",
    "\n",
    "---\n",
    "\n",
    "En résumé, cette étape constitue le **socle de toute la chaîne analytique**. Une bonne compréhension initiale permet une modélisation plus ciblée, efficace et robuste.\n"
   ]
  },
  {
   "cell_type": "code",
   "execution_count": 1,
   "id": "656d9e02-81a3-480c-978a-0c04a1370898",
   "metadata": {
    "scrolled": true
   },
   "outputs": [
    {
     "name": "stderr",
     "output_type": "stream",
     "text": [
      "Warning message:\n",
      "\"package 'stringr' was built under R version 3.6.3\"\n",
      "Warning message:\n",
      "\"package 'tidyverse' was built under R version 3.6.3\"\n",
      "-- \u001b[1mAttaching packages\u001b[22m --------------------------------------- tidyverse 1.3.1 --\n",
      "\n",
      "\u001b[32mv\u001b[39m \u001b[34mggplot2\u001b[39m 3.3.3     \u001b[32mv\u001b[39m \u001b[34mpurrr  \u001b[39m 0.3.4\n",
      "\u001b[32mv\u001b[39m \u001b[34mtibble \u001b[39m 3.1.2     \u001b[32mv\u001b[39m \u001b[34mdplyr  \u001b[39m 1.0.6\n",
      "\u001b[32mv\u001b[39m \u001b[34mtidyr  \u001b[39m 1.1.3     \u001b[32mv\u001b[39m \u001b[34mforcats\u001b[39m 0.5.1\n",
      "\u001b[32mv\u001b[39m \u001b[34mreadr  \u001b[39m 1.4.0     \n",
      "\n",
      "Warning message:\n",
      "\"package 'ggplot2' was built under R version 3.6.3\"\n",
      "Warning message:\n",
      "\"package 'tibble' was built under R version 3.6.3\"\n",
      "Warning message:\n",
      "\"package 'tidyr' was built under R version 3.6.3\"\n",
      "Warning message:\n",
      "\"package 'readr' was built under R version 3.6.3\"\n",
      "Warning message:\n",
      "\"package 'purrr' was built under R version 3.6.3\"\n",
      "Warning message:\n",
      "\"package 'dplyr' was built under R version 3.6.3\"\n",
      "Warning message:\n",
      "\"package 'forcats' was built under R version 3.6.3\"\n",
      "-- \u001b[1mConflicts\u001b[22m ------------------------------------------ tidyverse_conflicts() --\n",
      "\u001b[31mx\u001b[39m \u001b[34mdplyr\u001b[39m::\u001b[32mfilter()\u001b[39m masks \u001b[34mstats\u001b[39m::filter()\n",
      "\u001b[31mx\u001b[39m \u001b[34mdplyr\u001b[39m::\u001b[32mlag()\u001b[39m    masks \u001b[34mstats\u001b[39m::lag()\n",
      "\n"
     ]
    }
   ],
   "source": [
    "library(stringr)\n",
    "library(tidyverse)\n"
   ]
  },
  {
   "cell_type": "code",
   "execution_count": 6,
   "id": "cec7a11d-255e-4297-93cc-a370ac51c9c0",
   "metadata": {},
   "outputs": [
    {
     "data": {
      "text/html": [
       "<ol class=list-inline>\n",
       "\t<li>'sample_submission_ML_IOT.csv'</li>\n",
       "\t<li>'test_ML_IOT.csv'</li>\n",
       "\t<li>'train_ML_IOT.csv'</li>\n",
       "</ol>\n"
      ],
      "text/latex": [
       "\\begin{enumerate*}\n",
       "\\item 'sample\\_submission\\_ML\\_IOT.csv'\n",
       "\\item 'test\\_ML\\_IOT.csv'\n",
       "\\item 'train\\_ML\\_IOT.csv'\n",
       "\\end{enumerate*}\n"
      ],
      "text/markdown": [
       "1. 'sample_submission_ML_IOT.csv'\n",
       "2. 'test_ML_IOT.csv'\n",
       "3. 'train_ML_IOT.csv'\n",
       "\n",
       "\n"
      ],
      "text/plain": [
       "[1] \"sample_submission_ML_IOT.csv\" \"test_ML_IOT.csv\"             \n",
       "[3] \"train_ML_IOT.csv\"            "
      ]
     },
     "metadata": {},
     "output_type": "display_data"
    }
   ],
   "source": [
    "list.files(\"C:/Users/menia/Desktop/dataset_ST\")"
   ]
  },
  {
   "cell_type": "code",
   "execution_count": 9,
   "id": "71c5a073-5e87-45a6-aea0-26d91b54f7fe",
   "metadata": {},
   "outputs": [
    {
     "name": "stderr",
     "output_type": "stream",
     "text": [
      "\n",
      "\u001b[36m--\u001b[39m \u001b[1m\u001b[1mColumn specification\u001b[1m\u001b[22m \u001b[36m--------------------------------------------------------\u001b[39m\n",
      "cols(\n",
      "  DateTime = \u001b[34mcol_datetime(format = \"\")\u001b[39m,\n",
      "  Junction = \u001b[32mcol_double()\u001b[39m,\n",
      "  Vehicles = \u001b[32mcol_double()\u001b[39m,\n",
      "  ID = \u001b[32mcol_double()\u001b[39m\n",
      ")\n",
      "\n",
      "\n"
     ]
    },
    {
     "data": {
      "text/html": [
       "<table>\n",
       "<thead><tr><th scope=col>DateTime</th><th scope=col>Junction</th><th scope=col>Vehicles</th><th scope=col>ID</th></tr></thead>\n",
       "<tbody>\n",
       "\t<tr><td>2015-11-01 00:00:00</td><td>1                  </td><td>15                 </td><td>20151101001        </td></tr>\n",
       "\t<tr><td>2015-11-01 01:00:00</td><td>1                  </td><td>13                 </td><td>20151101011        </td></tr>\n",
       "\t<tr><td>2015-11-01 02:00:00</td><td>1                  </td><td>10                 </td><td>20151101021        </td></tr>\n",
       "\t<tr><td>2015-11-01 03:00:00</td><td>1                  </td><td> 7                 </td><td>20151101031        </td></tr>\n",
       "\t<tr><td>2015-11-01 04:00:00</td><td>1                  </td><td> 9                 </td><td>20151101041        </td></tr>\n",
       "\t<tr><td>2015-11-01 05:00:00</td><td>1                  </td><td> 6                 </td><td>20151101051        </td></tr>\n",
       "</tbody>\n",
       "</table>\n"
      ],
      "text/latex": [
       "\\begin{tabular}{r|llll}\n",
       " DateTime & Junction & Vehicles & ID\\\\\n",
       "\\hline\n",
       "\t 2015-11-01 00:00:00 & 1                   & 15                  & 20151101001        \\\\\n",
       "\t 2015-11-01 01:00:00 & 1                   & 13                  & 20151101011        \\\\\n",
       "\t 2015-11-01 02:00:00 & 1                   & 10                  & 20151101021        \\\\\n",
       "\t 2015-11-01 03:00:00 & 1                   &  7                  & 20151101031        \\\\\n",
       "\t 2015-11-01 04:00:00 & 1                   &  9                  & 20151101041        \\\\\n",
       "\t 2015-11-01 05:00:00 & 1                   &  6                  & 20151101051        \\\\\n",
       "\\end{tabular}\n"
      ],
      "text/markdown": [
       "\n",
       "| DateTime | Junction | Vehicles | ID |\n",
       "|---|---|---|---|\n",
       "| 2015-11-01 00:00:00 | 1                   | 15                  | 20151101001         |\n",
       "| 2015-11-01 01:00:00 | 1                   | 13                  | 20151101011         |\n",
       "| 2015-11-01 02:00:00 | 1                   | 10                  | 20151101021         |\n",
       "| 2015-11-01 03:00:00 | 1                   |  7                  | 20151101031         |\n",
       "| 2015-11-01 04:00:00 | 1                   |  9                  | 20151101041         |\n",
       "| 2015-11-01 05:00:00 | 1                   |  6                  | 20151101051         |\n",
       "\n"
      ],
      "text/plain": [
       "  DateTime            Junction Vehicles ID         \n",
       "1 2015-11-01 00:00:00 1        15       20151101001\n",
       "2 2015-11-01 01:00:00 1        13       20151101011\n",
       "3 2015-11-01 02:00:00 1        10       20151101021\n",
       "4 2015-11-01 03:00:00 1         7       20151101031\n",
       "5 2015-11-01 04:00:00 1         9       20151101041\n",
       "6 2015-11-01 05:00:00 1         6       20151101051"
      ]
     },
     "metadata": {},
     "output_type": "display_data"
    },
    {
     "name": "stdout",
     "output_type": "stream",
     "text": [
      "spec_tbl_df [48,120 x 4] (S3: spec_tbl_df/tbl_df/tbl/data.frame)\n",
      " $ DateTime: POSIXct[1:48120], format: \"2015-11-01 00:00:00\" \"2015-11-01 01:00:00\" ...\n",
      " $ Junction: num [1:48120] 1 1 1 1 1 1 1 1 1 1 ...\n",
      " $ Vehicles: num [1:48120] 15 13 10 7 9 6 9 8 11 12 ...\n",
      " $ ID      : num [1:48120] 2.02e+10 2.02e+10 2.02e+10 2.02e+10 2.02e+10 ...\n",
      " - attr(*, \"spec\")=\n",
      "  .. cols(\n",
      "  ..   DateTime = \u001b[34mcol_datetime(format = \"\")\u001b[39m,\n",
      "  ..   Junction = \u001b[32mcol_double()\u001b[39m,\n",
      "  ..   Vehicles = \u001b[32mcol_double()\u001b[39m,\n",
      "  ..   ID = \u001b[32mcol_double()\u001b[39m\n",
      "  .. )\n"
     ]
    },
    {
     "data": {
      "text/plain": [
       "    DateTime                      Junction        Vehicles     \n",
       " Min.   :2015-11-01 00:00:00   Min.   :1.000   Min.   :  1.00  \n",
       " 1st Qu.:2016-04-16 01:45:00   1st Qu.:1.000   1st Qu.:  9.00  \n",
       " Median :2016-09-30 03:30:00   Median :2.000   Median : 15.00  \n",
       " Mean   :2016-09-19 06:03:56   Mean   :2.181   Mean   : 22.79  \n",
       " 3rd Qu.:2017-02-25 16:00:00   3rd Qu.:3.000   3rd Qu.: 29.00  \n",
       " Max.   :2017-06-30 23:00:00   Max.   :4.000   Max.   :180.00  \n",
       "       ID           \n",
       " Min.   :2.015e+10  \n",
       " 1st Qu.:2.016e+10  \n",
       " Median :2.016e+10  \n",
       " Mean   :2.016e+10  \n",
       " 3rd Qu.:2.017e+10  \n",
       " Max.   :2.017e+10  "
      ]
     },
     "metadata": {},
     "output_type": "display_data"
    },
    {
     "data": {
      "text/html": [
       "<ol class=list-inline>\n",
       "\t<li>'DateTime'</li>\n",
       "\t<li>'Junction'</li>\n",
       "\t<li>'Vehicles'</li>\n",
       "\t<li>'ID'</li>\n",
       "</ol>\n"
      ],
      "text/latex": [
       "\\begin{enumerate*}\n",
       "\\item 'DateTime'\n",
       "\\item 'Junction'\n",
       "\\item 'Vehicles'\n",
       "\\item 'ID'\n",
       "\\end{enumerate*}\n"
      ],
      "text/markdown": [
       "1. 'DateTime'\n",
       "2. 'Junction'\n",
       "3. 'Vehicles'\n",
       "4. 'ID'\n",
       "\n",
       "\n"
      ],
      "text/plain": [
       "[1] \"DateTime\" \"Junction\" \"Vehicles\" \"ID\"      "
      ]
     },
     "metadata": {},
     "output_type": "display_data"
    },
    {
     "data": {
      "text/html": [
       "<ol class=list-inline>\n",
       "\t<li>1</li>\n",
       "\t<li>2</li>\n",
       "\t<li>3</li>\n",
       "\t<li>4</li>\n",
       "</ol>\n"
      ],
      "text/latex": [
       "\\begin{enumerate*}\n",
       "\\item 1\n",
       "\\item 2\n",
       "\\item 3\n",
       "\\item 4\n",
       "\\end{enumerate*}\n"
      ],
      "text/markdown": [
       "1. 1\n",
       "2. 2\n",
       "3. 3\n",
       "4. 4\n",
       "\n",
       "\n"
      ],
      "text/plain": [
       "[1] 1 2 3 4"
      ]
     },
     "metadata": {},
     "output_type": "display_data"
    },
    {
     "data": {
      "image/png": "[encoded data removed]",
      "text/plain": [
       "plot without title"
      ]
     },
     "metadata": {
      "image/png": {
       "height": 420,
       "width": 420
      }
     },
     "output_type": "display_data"
    },
    {
     "data": {
      "image/png": "[encoded data removed]",
      "text/plain": [
       "plot without title"
      ]
     },
     "metadata": {
      "image/png": {
       "height": 420,
       "width": 420
      }
     },
     "output_type": "display_data"
    }
   ],
   "source": [
    "# Charger les librairies nécessaires\n",
    "library(readr)\n",
    "library(ggplot2)\n",
    "library(dplyr)\n",
    "\n",
    "# Chemin du fichier (adapte si besoin)\n",
    "fichier <- \"C:/Users/menia/Desktop/dataset_ST/train_ML_IOT.csv\"\n",
    "\n",
    "# 1. Importer les données\n",
    "data <- read_csv(fichier)\n",
    "\n",
    "# 2. Aperçu rapide\n",
    "head(data)\n",
    "str(data)\n",
    "summary(data)\n",
    "names(data)  # Liste les colonnes\n",
    "\n",
    "# 3. (Facultatif) Vérifier les valeurs uniques de Junction\n",
    "unique(data$Junction)\n",
    "\n",
    "# 4. Visualiser la série temporelle pour une junction (ex : 1)\n",
    "data_j1 <- filter(data, Junction == 1)\n",
    "\n",
    "ggplot(data_j1, aes(x = DateTime, y = Vehicles)) +\n",
    "  geom_line(color = \"blue\") +\n",
    "  labs(\n",
    "    title = \"Trafic (nombre de véhicules) au fil du temps - Junction 1\",\n",
    "    x = \"Date/Heure\",\n",
    "    y = \"Nombre de véhicules\"\n",
    "  )\n",
    "\n",
    "# 5. Visualiser pour plusieurs Junctions (toutes sur le même graphe)\n",
    "ggplot(data, aes(x = DateTime, y = Vehicles, color = as.factor(Junction))) +\n",
    "  geom_line() +\n",
    "  labs(\n",
    "    title = \"Trafic (nombre de véhicules) par junction\",\n",
    "    x = \"Date/Heure\",\n",
    "    y = \"Nombre de véhicules\",\n",
    "    color = \"Junction\"\n",
    "  )"
   ]
  },
  {
   "cell_type": "markdown",
   "id": "65b7eb2d-7f07-4fda-bdae-a1ac9a847daa",
   "metadata": {},
   "source": [
    "# 3. Préparation des données\n",
    "\n",
    "## Objectif global\n",
    "\n",
    "L’objectif de cette phase est de transformer les données brutes issues des capteurs de trafic en un format propre, structuré et exploitable.  \n",
    "Une préparation rigoureuse est indispensable pour garantir la validité statistique et la robustesse des modèles à venir.\n",
    "\n",
    "---\n",
    "\n",
    "## Étapes de traitement effectuées\n",
    "\n",
    "### 1. Suppression des doublons\n",
    "\n",
    "Les doublons sont éliminés à l’aide de la fonction `distinct()` afin de s’assurer que chaque observation est unique et que les calculs statistiques ne sont pas biaisés par des répétitions.\n",
    "\n",
    "### 2. Traitement des valeurs manquantes\n",
    "\n",
    "Les lignes contenant des valeurs manquantes dans les colonnes critiques (`DateTime`, `Vehicles`) sont supprimées pour garantir la cohérence de la série temporelle.\n",
    "\n",
    "### 3. Suppression des valeurs aberrantes (méthode quantile)\n",
    "\n",
    "Les 1 % des valeurs les plus élevées dans la variable `Vehicles` sont écartées afin d’atténuer l’influence des pics extrêmes sur la modélisation.\n",
    "\n",
    "### 4. Détection des outliers via l’IQR\n",
    "\n",
    "Une méthode complémentaire basée sur l’intervalle interquartile (IQR) est utilisée pour exclure statistiquement les valeurs considérées comme extrêmes.  \n",
    "Cette méthode ne dépend d’aucune hypothèse sur la distribution des données et améliore la robustesse du nettoyage.\n",
    "\n",
    "### 5. Uniformisation du format temporel\n",
    "\n",
    "Le champ `DateTime` est converti au format `POSIXct` en fuseau horaire UTC pour assurer une compatibilité maximale avec les modèles de séries temporelles.\n",
    "\n",
    "### 6. Vérification de la continuité temporelle\n",
    "\n",
    "Une vérification de la régularité horaire est effectuée pour garantir qu’il n’existe aucun saut temporel dans la série.  \n",
    "Cette étape est indispensable pour les modèles comme ARIMA ou SARIMA, qui supposent une série temporelle continue.\n",
    "\n",
    "### 7. Résumé statistique post-nettoyage\n",
    "\n",
    "Un résumé descriptif est produit (`summary`, `str`, `is.na`) afin de confirmer que les données sont propres et bien structurées.\n",
    "\n",
    "### 8. Visualisation de la série nettoyée\n",
    "\n",
    "Une courbe est tracée pour une junction sélectionnée (ex. Junction 1) afin de valider visuellement la structure temporelle après nettoyage.\n",
    "\n",
    "---\n",
    "\n",
    "## Importance de cette étape\n",
    "\n",
    "- Elle garantit la qualité des données d’entrée, indispensable pour obtenir des prévisions fiables.\n",
    "- Elle améliore l’interprétabilité des tendances et des variations dans la série.\n",
    "- Elle permet d’éviter des erreurs fréquentes liées aux valeurs aberrantes ou manquantes.\n",
    "- Elle prépare le terrain pour une modélisation rigoureuse, performante et stable.\n",
    "\n",
    "---\n",
    "\n",
    "## Conclusion\n",
    "\n",
    "La préparation des données constitue la fondation de tout projet analytique.  \n",
    "En assurant un nettoyage approfondi, une cohérence temporelle et une structuration correcte, cette étape maximise les chances de succès des phases de modélisation et de prévision.\n"
   ]
  },
  {
   "cell_type": "code",
   "execution_count": 10,
   "id": "b9043477-3b5a-4daa-972b-dc9f070019ec",
   "metadata": {},
   "outputs": [
    {
     "data": {
      "text/html": [
       "<dl class=dl-horizontal>\n",
       "\t<dt>DateTime</dt>\n",
       "\t\t<dd>0</dd>\n",
       "\t<dt>Junction</dt>\n",
       "\t\t<dd>0</dd>\n",
       "\t<dt>Vehicles</dt>\n",
       "\t\t<dd>0</dd>\n",
       "\t<dt>ID</dt>\n",
       "\t\t<dd>0</dd>\n",
       "</dl>\n"
      ],
      "text/latex": [
       "\\begin{description*}\n",
       "\\item[DateTime] 0\n",
       "\\item[Junction] 0\n",
       "\\item[Vehicles] 0\n",
       "\\item[ID] 0\n",
       "\\end{description*}\n"
      ],
      "text/markdown": [
       "DateTime\n",
       ":   0Junction\n",
       ":   0Vehicles\n",
       ":   0ID\n",
       ":   0\n",
       "\n"
      ],
      "text/plain": [
       "DateTime Junction Vehicles       ID \n",
       "       0        0        0        0 "
      ]
     },
     "metadata": {},
     "output_type": "display_data"
    },
    {
     "data": {
      "text/plain": [
       "   Min. 1st Qu.  Median    Mean 3rd Qu.    Max. \n",
       "   1.00    9.00   15.00   22.79   29.00  180.00 "
      ]
     },
     "metadata": {},
     "output_type": "display_data"
    },
    {
     "data": {
      "text/plain": [
       "    DateTime                      Junction        Vehicles    \n",
       " Min.   :2015-11-01 00:00:00   Min.   :1.000   Min.   : 1.00  \n",
       " 1st Qu.:2016-04-14 08:00:00   1st Qu.:1.000   1st Qu.: 9.00  \n",
       " Median :2016-09-26 18:00:00   Median :2.000   Median :15.00  \n",
       " Mean   :2016-09-16 19:28:11   Mean   :2.192   Mean   :21.91  \n",
       " 3rd Qu.:2017-02-22 07:00:00   3rd Qu.:3.000   3rd Qu.:29.00  \n",
       " Max.   :2017-06-30 23:00:00   Max.   :4.000   Max.   :94.00  \n",
       "       ID           \n",
       " Min.   :2.015e+10  \n",
       " 1st Qu.:2.016e+10  \n",
       " Median :2.016e+10  \n",
       " Mean   :2.016e+10  \n",
       " 3rd Qu.:2.017e+10  \n",
       " Max.   :2.017e+10  "
      ]
     },
     "metadata": {},
     "output_type": "display_data"
    },
    {
     "data": {
      "text/html": [
       "0"
      ],
      "text/latex": [
       "0"
      ],
      "text/markdown": [
       "0"
      ],
      "text/plain": [
       "[1] 0"
      ]
     },
     "metadata": {},
     "output_type": "display_data"
    },
    {
     "data": {
      "image/png": "[encoded data removed]",
      "text/plain": [
       "plot without title"
      ]
     },
     "metadata": {
      "image/png": {
       "height": 420,
       "width": 420
      }
     },
     "output_type": "display_data"
    }
   ],
   "source": [
    "library(dplyr)\n",
    "library(ggplot2)\n",
    "\n",
    "# 1. Supprimer les doublons\n",
    "data_clean <- data %>%\n",
    "  distinct()\n",
    "\n",
    "# 2. Gérer les valeurs manquantes\n",
    "# Afficher combien il y a de NA par colonne\n",
    "colSums(is.na(data_clean))\n",
    "\n",
    "# Option 1 : Retirer les lignes avec NA dans Vehicles ou DateTime\n",
    "data_clean <- data_clean %>%\n",
    "  filter(!is.na(DateTime), !is.na(Vehicles))\n",
    "\n",
    "\n",
    "\n",
    "# 3. Supprimer les valeurs aberrantes (exemple : Vehicles négatif ou trop élevé)\n",
    "summary(data_clean$Vehicles)\n",
    "data_clean <- data_clean %>%\n",
    "  filter(Vehicles >= 0, Vehicles < quantile(Vehicles, 0.99)) # on retire les 1% plus élevés si besoin\n",
    "\n",
    "# 4. Vérifier le nettoyage\n",
    "summary(data_clean)\n",
    "sum(is.na(data_clean$Vehicles))\n",
    "\n",
    "# 5. Visualiser la série nettoyée\n",
    "ggplot(data_clean %>% filter(Junction == 1), aes(x = DateTime, y = Vehicles)) +\n",
    "  geom_line(color = \"darkgreen\") +\n",
    "  labs(title = \"Série temporelle nettoyée (Junction 1)\", x = \"Date/Heure\", y = \"Nombre de véhicules\")"
   ]
  },
  {
   "cell_type": "code",
   "execution_count": 11,
   "id": "ac17baf0-62a5-48ca-b424-b66a20f2a57a",
   "metadata": {},
   "outputs": [
    {
     "name": "stderr",
     "output_type": "stream",
     "text": [
      "\n",
      "Attaching package: 'scales'\n",
      "\n",
      "\n",
      "The following object is masked from 'package:purrr':\n",
      "\n",
      "    discard\n",
      "\n",
      "\n",
      "The following object is masked from 'package:readr':\n",
      "\n",
      "    col_factor\n",
      "\n",
      "\n"
     ]
    },
    {
     "data": {
      "image/png": "[encoded data removed]",
      "text/plain": [
       "plot without title"
      ]
     },
     "metadata": {
      "image/png": {
       "height": 420,
       "width": 420
      }
     },
     "output_type": "display_data"
    }
   ],
   "source": [
    "library(ggplot2)\n",
    "library(dplyr)\n",
    "library(scales) # Pour formater l’axe des dates\n",
    "\n",
    "# Filtrer sur la Junction 1 (à adapter si tu veux une autre)\n",
    "df_j1 <- filter(data_clean, Junction == 1)\n",
    "\n",
    "# Visualisation lisible et stylée\n",
    "ggplot(df_j1, aes(x = DateTime, y = Vehicles)) +\n",
    "  geom_line(color = \"#0072B2\", size = 0.7) +                # Courbe bleue\n",
    "  labs(\n",
    "    title = \"Trafic horaire – Junction 1\",\n",
    "    subtitle = \"Nombre de véhicules par heure\",\n",
    "    x = \"Date et heure\",\n",
    "    y = \"Nombre de véhicules\"\n",
    "  ) +\n",
    "  scale_x_datetime(date_labels = \"%b %Y\", date_breaks = \"1 month\") +  # Dates lisibles\n",
    "  theme_minimal(base_size = 14) +                                     # Thème clair, texte lisible\n",
    "  theme(\n",
    "    plot.title = element_text(face = \"bold\", size = 18, color = \"#22223b\"),\n",
    "    plot.subtitle = element_text(size = 13, color = \"#4a4e69\"),\n",
    "    axis.text.x = element_text(angle = 45, hjust = 1)\n",
    "  )"
   ]
  },
  {
   "attachments": {},
   "cell_type": "markdown",
   "id": "e697cfc0-85eb-473d-b02c-d7e778fbcfe3",
   "metadata": {},
   "source": [
    "# 4. Modélisation\n",
    "\n",
    "## Objectif global\n",
    "\n",
    "L’objectif de cette phase est de construire un modèle statistique capable de prédire le volume horaire de véhicules à un carrefour donné.  \n",
    "La stratégie adoptée repose sur une combinaison entre une **régression (tendance + saisonnalité)** et un **modèle ARIMA appliqué aux résidus** de la régression.\n",
    "\n",
    "Cette approche hybride permet de capter à la fois les tendances générales et les structures temporelles plus fines non expliquées par la régression seule.\n",
    "\n",
    "---\n",
    "\n",
    "## Méthodologie utilisée\n",
    "\n",
    "1. **Création de la série temporelle**\n",
    "   Les observations horaires sont converties en objet `ts` avec une fréquence de 24 observations par jour.\n",
    "\n",
    "2. **Création des variables temporelles**\n",
    "   Une variable temporelle normalisée `s.t` est générée, représentant le temps centré-réduit.\n",
    "\n",
    "3. **Saisonnalité par composantes trigonométriques**\n",
    "   Deux matrices contenant des cosinus et sinus (6 harmoniques) sont générées pour modéliser la saisonnalité horaire.\n",
    "\n",
    "4. **Régressions linéaires multiples**\n",
    "   Trois modèles sont testés :\n",
    "   - Modèle 1 : Tendance linéaire + saisonnalité trigonométrique\n",
    "   - Modèle 2 : Tendance quadratique + saisonnalité trigonométrique\n",
    "   - Modèle 3 : Tendance quadratique + dummies horaires (via `seasonaldummy()`)\n",
    "\n",
    "5. **Analyse des résidus**\n",
    "   Les résidus sont extraits pour chaque modèle, visualisés et analysés (stationnarité, autocorrélation).\n",
    "\n",
    "6. **Modélisation des résidus avec ARIMA**\n",
    "   Un modèle `auto.arima()` est ajusté sur les résidus du meilleur modèle de régression.\n",
    "\n",
    "7. **Validation statistique**\n",
    "   L’ACF et la PACF des résidus sont affichées pour vérifier l’absence de structure persistante non capturée.\n",
    "\n",
    "---\n",
    "\n",
    "## Pourquoi cette méthode ?\n",
    "\n",
    "- La combinaison régression + ARIMA permet d'exploiter les forces des deux approches : interprétabilité et capacité à capturer la dépendance temporelle.\n",
    "- L'analyse des résidus permet de vérifier que les hypothèses du modèle sont bien respectées.\n",
    "- Cette phase fournit un modèle prêt à être utilisé pour la prédiction dans la phase suivante.\n",
    "\n",
    "---\n",
    "\n",
    "## Conclusion\n",
    "\n",
    "Cette étape produit un modèle hybride fiable, construit sur une base rigoureuse, expliquant les tendances et ajustant les irrégularités.  \n",
    "Elle prépare directement le terrain pour la génération des prévisions à court terme (prochaine étape).\n"
   ]
  },
  {
   "cell_type": "code",
   "execution_count": 12,
   "id": "0f285ac5-e8f5-42b8-9696-2d12937b05e2",
   "metadata": {},
   "outputs": [],
   "source": [
    "library(dplyr)\n",
    "\n",
    "df_j1 <- data_clean %>% filter(Junction == 1)"
   ]
  },
  {
   "cell_type": "code",
   "execution_count": 13,
   "id": "8595285d-0569-4f73-b95f-18161de4b30d",
   "metadata": {},
   "outputs": [],
   "source": [
    "# Extraire la colonne Vehicles\n",
    "vehicles_ts <- ts(df_j1$Vehicles, frequency = 24)  # 24 pour données horaires sur 1 jour"
   ]
  },
  {
   "cell_type": "code",
   "execution_count": null,
   "id": "99f4b9ba-7dde-4872-93ac-761846106980",
   "metadata": {},
   "outputs": [],
   "source": [
    "decomp <- decompose(vehicles_ts)\n",
    "plot(decomp)\n"
   ]
  },
  {
   "cell_type": "code",
   "execution_count": 18,
   "id": "f52f4e33-e62e-495c-8f48-096645459496",
   "metadata": {},
   "outputs": [
    {
     "name": "stderr",
     "output_type": "stream",
     "text": [
      "Warning message:\n",
      "\"package 'forecast' was built under R version 3.6.3\"\n",
      "Registered S3 method overwritten by 'xts':\n",
      "  method     from\n",
      "  as.zoo.xts zoo \n",
      "\n",
      "Registered S3 method overwritten by 'quantmod':\n",
      "  method            from\n",
      "  as.zoo.data.frame zoo \n",
      "\n"
     ]
    }
   ],
   "source": [
    "library(forecast)\n",
    "library(dplyr)\n",
    "\n",
    "# Filtrer pour une seule Junction (exemple : 1)\n",
    "df_j1 <- data_clean %>% filter(Junction == 1)\n",
    "\n",
    "# Créer la série temporelle (pour des données horaires, frequency = 24)\n",
    "vehicles_ts <- ts(df_j1$Vehicles, frequency = 24)"
   ]
  },
  {
   "cell_type": "markdown",
   "id": "2fdc2ad6-eaaa-461a-941c-f99a4bfaeed3",
   "metadata": {},
   "source": [
    "### Explication des actions\n",
    "\n",
    "#### Filtrage ciblé\n",
    "On se concentre uniquement sur **Junction 1** afin de modéliser une seule série à la fois, ce qui facilite l’ajustement des modèles **ARIMA** ou **SARIMA**.\n",
    "\n",
    "#### Objet `ts`\n",
    "`vehicles_ts` est un objet de type `ts` (Time Series), requis pour utiliser les fonctions de séries temporelles telles que `decompose()`, `auto.arima()`, etc.\n",
    "\n",
    "#### Fréquence = 24\n",
    "On indique qu’il y a **24 observations par cycle** (1 par heure → cycle journalier complet).\n",
    "\n",
    "#### Décomposition\n",
    "On extrait trois composantes principales :\n",
    "- **Tendance** : évolution à long terme du trafic  \n",
    "- **Saison** : variation cyclique quotidienne (effet horaire)  \n",
    "- **Résidu** : bruit ou anomalies inexpliquées\n",
    "\n",
    "---\n",
    "\n",
    "### Pourquoi c’est essentiel\n",
    "\n",
    "- Comprendre la **structure interne des données** avant toute modélisation.\n",
    "- Valider l’existence d’une **saisonnalité**, indispensable pour choisir entre :\n",
    "  - modèles linéaires simples  \n",
    "  - modèles intégrant des termes périodiques\n",
    "- Identifier les **anomalies** ou **discontinuités** éventuelles avant d’ajuster un modèle prédictif.\n",
    "\n",
    "---\n",
    "\n",
    "### Interprétation visuelle (via `plot(decomp)`)\n",
    "\n",
    "- Si la **saison** est nette et stable → possibilité de modéliser via **sinusoïdes** ou **dummies horaires**.\n",
    "- Si la **tendance** varie fortement → on pourra utiliser une **tendance quadratique**.\n",
    "- Si les **résidus** sont corrélés → un **ARIMA sur les résidus** sera nécessaire après la régression.\n"
   ]
  },
  {
   "cell_type": "code",
   "execution_count": 20,
   "id": "b8d8f72a-f350-4a67-b49c-90ca7b41824a",
   "metadata": {},
   "outputs": [],
   "source": [
    "# Variable t (temps)\n",
    "t <- 1:length(vehicles_ts)\n",
    "\n",
    "# Centrer/réduire t\n",
    "s.t <- (t - mean(t)) / sd(t)\n",
    "\n",
    "# Premières composantes saisonnières (harmoniques)\n",
    "CS <- matrix(0, length(vehicles_ts), 6)\n",
    "SN <- matrix(0, length(vehicles_ts), 6)\n",
    "for (i in 1:6) CS[,i] <- cos(2 * pi * i * t / 24) # 24 car données horaires\n",
    "for (i in 1:6) SN[,i] <- sin(2 * pi * i * t / 24)"
   ]
  },
  {
   "cell_type": "code",
   "execution_count": 17,
   "id": "06d2bd6b-8d19-47a8-a7b1-049e1521a53e",
   "metadata": {},
   "outputs": [],
   "source": [
    "# 2. Composantes saisonnières (méthode trigonométrique)\n",
    "CS <- matrix(0, length(sp.ts), 6)\n",
    "SN <- matrix(0, length(sp.ts), 6)\n",
    "for (i in 1:6) CS[, i] <- cos(2 * pi * i * t / 12)\n",
    "for (i in 1:6) SN[, i] <- sin(2 * pi * i * t / 12)"
   ]
  },
  {
   "cell_type": "code",
   "execution_count": 21,
   "id": "4261e8b1-e39a-4500-87ef-9e30cf957d3d",
   "metadata": {},
   "outputs": [],
   "source": [
    "DV <- seasonaldummy(vehicles_ts)"
   ]
  },
  {
   "cell_type": "code",
   "execution_count": 22,
   "id": "ea158934-3335-4ce9-94e0-ac4903c8d4b6",
   "metadata": {},
   "outputs": [
    {
     "data": {
      "text/plain": [
       "\n",
       "Call:\n",
       "lm(formula = vehicles_ts ~ s.t + CS + SN)\n",
       "\n",
       "Residuals:\n",
       "    Min      1Q  Median      3Q     Max \n",
       "-48.216  -8.860  -0.554   7.772  49.147 \n",
       "\n",
       "Coefficients:\n",
       "            Estimate Std. Error t value Pr(>|t|)    \n",
       "(Intercept) 42.99652    0.11491 374.185  < 2e-16 ***\n",
       "s.t         13.79939    0.11491 120.087  < 2e-16 ***\n",
       "CS1         -1.92605    0.16252 -11.851  < 2e-16 ***\n",
       "CS2          2.66573    0.16251  16.404  < 2e-16 ***\n",
       "CS3         -0.78151    0.16250  -4.809 1.53e-06 ***\n",
       "CS4          0.41596    0.16250   2.560   0.0105 *  \n",
       "CS5         -0.39192    0.16251  -2.412   0.0159 *  \n",
       "CS6          0.76021    0.16251   4.678 2.92e-06 ***\n",
       "SN1         -8.08245    0.16249 -49.741  < 2e-16 ***\n",
       "SN2         -1.40698    0.16250  -8.658  < 2e-16 ***\n",
       "SN3          0.07095    0.16250   0.437   0.6624    \n",
       "SN4          0.22778    0.16250   1.402   0.1610    \n",
       "SN5          0.39291    0.16250   2.418   0.0156 *  \n",
       "SN6         -0.18840    0.16250  -1.159   0.2463    \n",
       "---\n",
       "Signif. codes:  0 '***' 0.001 '**' 0.01 '*' 0.05 '.' 0.1 ' ' 1\n",
       "\n",
       "Residual standard error: 13.65 on 14095 degrees of freedom\n",
       "Multiple R-squared:  0.5533,\tAdjusted R-squared:  0.5529 \n",
       "F-statistic:  1343 on 13 and 14095 DF,  p-value: < 2.2e-16\n"
      ]
     },
     "metadata": {},
     "output_type": "display_data"
    }
   ],
   "source": [
    "# Premier modèle : tendance linéaire + composantes saisonnières\n",
    "Model1 <- lm(vehicles_ts ~ s.t + CS + SN)\n",
    "summary(Model1)"
   ]
  },
  {
   "cell_type": "markdown",
   "id": "52646169-2987-460b-bc7f-e3c6777f19f5",
   "metadata": {},
   "source": [
    "### Ce qu’on fait\n",
    "\n",
    "- **Variable `t`** : identifie la position temporelle de chaque observation (1er, 2e, ..., dernier).\n",
    "- **Centrage/réduction** : améliore la stabilité numérique et l’interprétabilité du modèle.\n",
    "- **Composantes harmoniques** : simulent des cycles horaires avec des sinusoïdes pour détecter et modéliser la saisonnalité.\n",
    "- **Régression linéaire étendue** : intègre les cycles et la tendance pour expliquer la variabilité du trafic.\n",
    "\n",
    "---\n",
    "\n",
    "### Pourquoi ces choix ?\n",
    "\n",
    "- Les séries temporelles **horaires** présentent des motifs journaliers que les **sinusoïdes** peuvent très bien approximer.\n",
    "- En **centrant la variable temporelle**, on évite des colinéarités inutiles.\n",
    "- Ce type de modèle est un **bon point de départ** avant d’aller vers des approches plus complexes (SARIMA, Prophet, etc.).\n",
    "\n",
    "---\n",
    "\n",
    "### Interprétation des résultats (`summary(Model1)`)\n",
    "\n",
    "- **R² ajusté = 0.5529**  \n",
    "  → Le modèle explique environ **55 %** de la variabilité du trafic horaire – un résultat correct pour un modèle simple sans ARIMA.\n",
    "\n",
    "- **Significativité des coefficients** :\n",
    "  - La plupart des sinusoïdes (`CS` et `SN`) sont **significatifs** (***)\n",
    "  - Cela confirme que la **saisonnalité horaire** est bien présente dans les données.\n",
    "\n",
    "- **Tendance (`s.t`) très significative** :\n",
    "  → Indique une **croissance/décroissance systématique** sur la période analysée.\n",
    "\n",
    "- **Résidus non aléatoires** :\n",
    "  → Les **ACF/PACF des résidus** révèlent une **dépendance temporelle restante**  \n",
    "  → Celle-ci pourra être modélisée ensuite avec un **ARIMA**.\n",
    "\n",
    "---\n",
    "\n",
    "### Conclusion partielle\n",
    "\n",
    "Ce premier modèle confirme :\n",
    "- La présence de **saisonnalité cyclique**\n",
    "- Une **tendance temporelle marquée**\n",
    "\n",
    "Il constitue une **approximation solide**, mais les **résidus structurels** indiquent qu’une composante **stochastique** (type ARIMA) est nécessaire pour améliorer les performances prédictives.\n"
   ]
  },
  {
   "cell_type": "code",
   "execution_count": 23,
   "id": "4b0e3d6e-5336-43a7-a684-2c0267f924d0",
   "metadata": {},
   "outputs": [
    {
     "data": {
      "text/plain": [
       "\n",
       "Call:\n",
       "lm(formula = vehicles_ts ~ s.t + I(s.t^2) + CS + SN)\n",
       "\n",
       "Residuals:\n",
       "    Min      1Q  Median      3Q     Max \n",
       "-45.849  -8.997  -0.186   7.679  48.936 \n",
       "\n",
       "Coefficients:\n",
       "            Estimate Std. Error t value Pr(>|t|)    \n",
       "(Intercept) 44.28935    0.17175 257.876  < 2e-16 ***\n",
       "s.t         13.79939    0.11450 120.517  < 2e-16 ***\n",
       "I(s.t^2)    -1.29292    0.12802 -10.099  < 2e-16 ***\n",
       "CS1         -1.92709    0.16194 -11.900  < 2e-16 ***\n",
       "CS2          2.66486    0.16193  16.457  < 2e-16 ***\n",
       "CS3         -0.78214    0.16192  -4.830 1.38e-06 ***\n",
       "CS4          0.41559    0.16192   2.567   0.0103 *  \n",
       "CS5         -0.39206    0.16193  -2.421   0.0155 *  \n",
       "CS6          0.76021    0.16193   4.695 2.70e-06 ***\n",
       "SN1         -8.08218    0.16191 -49.918  < 2e-16 ***\n",
       "SN2         -1.40648    0.16192  -8.686  < 2e-16 ***\n",
       "SN3          0.07157    0.16192   0.442   0.6585    \n",
       "SN4          0.22841    0.16192   1.411   0.1584    \n",
       "SN5          0.39344    0.16192   2.430   0.0151 *  \n",
       "SN6         -0.18803    0.16192  -1.161   0.2455    \n",
       "---\n",
       "Signif. codes:  0 '***' 0.001 '**' 0.01 '*' 0.05 '.' 0.1 ' ' 1\n",
       "\n",
       "Residual standard error: 13.6 on 14094 degrees of freedom\n",
       "Multiple R-squared:  0.5566,\tAdjusted R-squared:  0.5561 \n",
       "F-statistic:  1264 on 14 and 14094 DF,  p-value: < 2.2e-16\n"
      ]
     },
     "metadata": {},
     "output_type": "display_data"
    }
   ],
   "source": [
    "# Second modèle : ajouter la tendance quadratique\n",
    "Model2 <- lm(vehicles_ts ~ s.t + I(s.t^2) + CS + SN)\n",
    "summary(Model2)"
   ]
  },
  {
   "cell_type": "markdown",
   "id": "726d0d82-febe-494e-8975-38772b1bb658",
   "metadata": {},
   "source": [
    "### Ce qu’on fait\n",
    "\n",
    "- Ajout de `I(s.t^2)` : cette variable introduit une **courbure** dans la tendance temporelle.\n",
    "- On garde les mêmes composantes saisonnières que dans le `Model1` (`CS`, `SN`).\n",
    "- Le modèle devient un **polynôme de degré 2** sur le temps centré, ce qui est courant pour modéliser des dynamiques douces non linéaires.\n",
    "\n",
    "---\n",
    "\n",
    "### Pourquoi cette étape ?\n",
    "\n",
    "- Dans les séries longues, la **tendance n’est pas toujours linéaire**.\n",
    "- Un modèle quadratique peut capturer une **accélération ou une décélération** dans le trafic.\n",
    "- Cela améliore souvent l’ajustement global **sans surparamétrer** le modèle.\n",
    "\n",
    "---\n",
    "\n",
    "### Résultats & Interprétation (`summary(Model2)`)\n",
    "\n",
    "- **R² ajusté = 0.5561**  \n",
    "  → Légèrement supérieur à celui de `Model1` (0.5529) : **gain modeste mais significatif**.\n",
    "\n",
    "- **Tendance quadratique (`I(s.t^2)`) hautement significative**  \n",
    "  → Cela valide qu’un simple modèle linéaire ne suffit pas à capturer l’évolution dans le temps.\n",
    "\n",
    "- **Presque toutes les composantes sinusoïdales (`CS`, `SN`) restent significatives**  \n",
    "  → La **saisonnalité horaire** reste bien présente, indépendamment de la tendance globale.\n",
    "\n",
    "- **Erreur standard des résidus ≈ 13.6**  \n",
    "  → Identique à `Model1`, donc l’amélioration vient du **gain de structure**, pas de réduction du bruit.\n",
    "\n",
    "---\n",
    "\n",
    "### Conclusion partielle\n",
    "\n",
    "Ce modèle est une **amélioration directe** du modèle précédent, en intégrant une **dynamique non linéaire**.  \n",
    "Il capte mieux la **forme globale de la série temporelle** tout en conservant la **modélisation de la saisonnalité horaire**.\n",
    "\n",
    "> L’étape suivante consistera à tester une autre méthode pour modéliser la saisonnalité : **les variables indicatrices (dummies)**.\n"
   ]
  },
  {
   "cell_type": "code",
   "execution_count": 24,
   "id": "f91bbc3f-ec51-44f7-ae5b-fef08572d8a7",
   "metadata": {},
   "outputs": [
    {
     "data": {
      "text/plain": [
       "\n",
       "Call:\n",
       "lm(formula = vehicles_ts ~ s.t + I(s.t^2) + DV)\n",
       "\n",
       "Residuals:\n",
       "    Min      1Q  Median      3Q     Max \n",
       "-46.442  -8.964  -0.197   7.659  48.919 \n",
       "\n",
       "Coefficients:\n",
       "            Estimate Std. Error t value Pr(>|t|)    \n",
       "(Intercept)  44.8222     0.5758  77.847  < 2e-16 ***\n",
       "s.t          13.7994     0.1145 120.494  < 2e-16 ***\n",
       "I(s.t^2)     -1.2929     0.1280 -10.097  < 2e-16 ***\n",
       "DVS1         -2.8266     0.7937  -3.561  0.00037 ***\n",
       "DVS2         -6.2109     0.7937  -7.826 5.41e-15 ***\n",
       "DVS3         -8.6259     0.7937 -10.868  < 2e-16 ***\n",
       "DVS4        -10.6735     0.7937 -13.448  < 2e-16 ***\n",
       "DVS5        -11.5629     0.7937 -14.569  < 2e-16 ***\n",
       "DVS6        -11.2857     0.7937 -14.220  < 2e-16 ***\n",
       "DVS7         -9.2466     0.7937 -11.650  < 2e-16 ***\n",
       "DVS8         -6.5714     0.7937  -8.280  < 2e-16 ***\n",
       "DVS9         -5.2857     0.7937  -6.660 2.84e-11 ***\n",
       "DVS10        -1.5476     0.7937  -1.950  0.05121 .  \n",
       "DVS11         3.5596     0.7937   4.485 7.35e-06 ***\n",
       "DVS12         6.1616     0.7937   7.764 8.83e-15 ***\n",
       "DVS13         6.0596     0.7937   7.635 2.40e-14 ***\n",
       "DVS14         3.1498     0.7937   3.969 7.26e-05 ***\n",
       "DVS15         4.8505     0.7937   6.111 1.01e-09 ***\n",
       "DVS16         4.8743     0.7937   6.141 8.40e-10 ***\n",
       "DVS17         4.2161     0.7937   5.312 1.10e-07 ***\n",
       "DVS18         4.3352     0.7937   5.462 4.78e-08 ***\n",
       "DVS19         5.8386     0.7937   7.357 1.99e-13 ***\n",
       "DVS20         7.1941     0.7937   9.064  < 2e-16 ***\n",
       "DVS21         5.4526     0.7937   6.870 6.68e-12 ***\n",
       "DVS22         3.4224     0.7940   4.310 1.64e-05 ***\n",
       "DVS23         1.9335     0.7940   2.435  0.01490 *  \n",
       "---\n",
       "Signif. codes:  0 '***' 0.001 '**' 0.01 '*' 0.05 '.' 0.1 ' ' 1\n",
       "\n",
       "Residual standard error: 13.6 on 14083 degrees of freedom\n",
       "Multiple R-squared:  0.5567,\tAdjusted R-squared:  0.5559 \n",
       "F-statistic: 707.5 on 25 and 14083 DF,  p-value: < 2.2e-16\n"
      ]
     },
     "metadata": {},
     "output_type": "display_data"
    }
   ],
   "source": [
    "# DV déjà créé plus haut avec seasonaldummy()\n",
    "Model3 <- lm(vehicles_ts ~ s.t + I(s.t^2) + DV)\n",
    "summary(Model3)"
   ]
  },
  {
   "cell_type": "markdown",
   "id": "6a2f840d-d000-4917-8d10-c2c3a5e0810d",
   "metadata": {},
   "source": [
    "### Ce qu’on fait\n",
    "\n",
    "- Le modèle `Model3` intègre :\n",
    "  - Une **tendance linéaire** (`s.t`)\n",
    "  - Une **tendance quadratique** (`I(s.t^2)`)\n",
    "  - Des **variables indicatrices horaires (`DV`)**, créées via `seasonaldummy()`\n",
    "\n",
    "> On modélise donc la **forme générale** de la série ainsi que la **saisonnalité horaire** avec des indicateurs (1 par heure, sauf la référence).\n",
    "\n",
    "---\n",
    "\n",
    "### Pourquoi cette approche ?\n",
    "\n",
    "- Contrairement aux sinusoïdes (modèles harmoniques), les dummies ne supposent **aucune forme fonctionnelle** pour la saisonnalité.\n",
    "- Cela permet de capturer des effets horaires **plus irréguliers ou abrupts**.\n",
    "- Approche particulièrement utile si les motifs journaliers ne sont pas parfaitement lisses.\n",
    "\n",
    "---\n",
    "\n",
    "### Résultats & Interprétation (`summary(Model3)`)\n",
    "\n",
    "- **R² ajusté = 0.5559**  \n",
    "  → Légèrement supérieur à `Model2` (0.5561 vs 0.5559) → amélioration **très marginale**, mais cohérente avec l’objectif de modélisation fine.\n",
    "\n",
    "- **Presque toutes les dummies horaires (`DVS1` à `DVS23`) sont hautement significatives**  \n",
    "  → Confirme une **saisonnalité horaire forte** et bien détectée par les dummies.\n",
    "\n",
    "- **Tendance linéaire (`s.t`) et quadratique (`I(s.t^2)`)** toujours **très significatives**  \n",
    "  → La dynamique temporelle reste un élément essentiel du trafic.\n",
    "\n",
    "- **Erreur standard des résidus ≈ 13.6**  \n",
    "  → Identique aux modèles précédents → amélioration toujours **structurelle**, non liée à la dispersion.\n",
    "\n",
    "---\n",
    "\n",
    "### Conclusion partielle\n",
    "\n",
    "> Le modèle avec dummies horaires confirme la **présence de motifs horaires significatifs** dans les données.  \n",
    "> Il ne surpasse pas nettement les sinusoïdes en termes de performance, mais offre une **modélisation plus souple** de la saisonnalité.\n",
    "\n",
    "> Ce modèle constitue une base solide pour une **modélisation hybride**, où l’on pourra ajouter une **composante stochastique (ARIMA)** pour capturer la dépendance résiduelle.\n",
    "\n",
    "---\n",
    "\n",
    "\n"
   ]
  },
  {
   "cell_type": "code",
   "execution_count": 25,
   "id": "bfca5346-801c-4da9-bba1-253b624ed77d",
   "metadata": {},
   "outputs": [
    {
     "data": {
      "image/png": "[encoded data removed]",
      "text/plain": [
       "Plot with title \"Résidus Model3 (dummies)\""
      ]
     },
     "metadata": {
      "image/png": {
       "height": 420,
       "width": 420
      }
     },
     "output_type": "display_data"
    },
    {
     "data": {
      "image/png": "[encoded data removed]",
      "text/plain": [
       "Plot with title \"Series  resid(Model3)\""
      ]
     },
     "metadata": {
      "image/png": {
       "height": 420,
       "width": 420
      }
     },
     "output_type": "display_data"
    }
   ],
   "source": [
    "par(mfrow=c(2,1))\n",
    "plot(resid(Model2), type=\"l\", main=\"Résidus Model2 (harmoniques)\")\n",
    "plot(resid(Model3), type=\"l\", main=\"Résidus Model3 (dummies)\")\n",
    "par(mfrow=c(1,1))\n",
    "acf(resid(Model3))"
   ]
  },
  {
   "cell_type": "markdown",
   "id": "4799f55d-ce57-4952-8806-797b3c1a8de3",
   "metadata": {},
   "source": [
    "### Ce qu’on a fait\n",
    "\n",
    "On trace et compare les **résidus** de deux modèles de régression :\n",
    "\n",
    "- **Model2** : inclut une **tendance quadratique** + **composantes saisonnières harmoniques** (sinusoïdes).\n",
    "- **Model3** : utilise la **même tendance**, mais remplace les sinusoïdes par des **dummies saisonnières** (`seasonaldummy()`).\n",
    "\n",
    "Deux types de diagnostics sont réalisés :\n",
    "\n",
    "- **Résidus temporels** : pour observer la stabilité et l’évolution du bruit.\n",
    "- **ACF des résidus** : pour détecter une autocorrélation résiduelle non captée par le modèle.\n",
    "\n",
    "---\n",
    "\n",
    "### Interprétation des graphiques\n",
    "\n",
    "#### Graphe 1 : Résidus `Model2` vs `Model3`\n",
    "\n",
    "- Les deux modèles montrent encore des **pics de variabilité** dans les résidus.\n",
    "- **Model3** (avec dummies) présente une **structure plus homogène** : le bruit semble plus stable.\n",
    "- **Model2** affiche une **augmentation progressive de l’amplitude** des résidus sur la fin :\n",
    "  - Cela pourrait indiquer une **mauvaise modélisation de certains effets saisonniers ou temporels**.\n",
    "\n",
    "#### Graphe 2 : ACF des résidus de `Model3`\n",
    "\n",
    "- Des **pics significatifs d’autocorrélation** sont observés aux **lags multiples de 24** (soit une journée).\n",
    "- Cela suggère que **toute la saisonnalité n’a pas été capturée** par les dummies seules.\n",
    "\n",
    "> Il reste donc une **structure périodique** dans les résidus, ce qui justifie l’ajout d’une composante **ARIMA**.\n",
    "\n",
    "---\n",
    "\n",
    "### Pourquoi cette étape est cruciale ?\n",
    "\n",
    "L’analyse des résidus permet de :\n",
    "\n",
    "- Vérifier si les **hypothèses du modèle linéaire** sont respectées :\n",
    "  - Bruit **centré**, **non autocorrélé**, **homoscédastique**.\n",
    "- Identifier la **structure résiduelle persistante** non expliquée par la régression.\n",
    "- Comparer les modèles selon la **qualité de l’ajustement** avant de passer à une modélisation résiduelle :\n",
    "  - Par exemple : **ajuster un ARIMA** sur les résidus restants.\n",
    "\n"
   ]
  },
  {
   "cell_type": "code",
   "execution_count": 25,
   "id": "9fdda087-219a-4eda-867c-b4d7fcc97745",
   "metadata": {},
   "outputs": [
    {
     "data": {
      "image/png": "[encoded data removed]",
      "text/plain": [
       "Plot with title \"Composante résiduelle\""
      ]
     },
     "metadata": {
      "image/png": {
       "height": 420,
       "width": 420
      }
     },
     "output_type": "display_data"
    }
   ],
   "source": [
    "# 6. Résidus du modèle 2\n",
    "sp.res <- Model2$residuals\n",
    "plot(time(sp.ts), sp.res, xlab = \"Time\", ylab = \"\",\n",
    "     main = \"Composante résiduelle\", col = \"purple4\", lwd = 2, type = \"l\")"
   ]
  },
  {
   "cell_type": "markdown",
   "id": "0bae9f8e-b0c1-4659-9822-ad1897e6ad6e",
   "metadata": {},
   "source": [
    "### Ce qu’on a fait\n",
    "\n",
    "- On extrait les **résidus** du `Model2`, qui inclut :\n",
    "  - Une **tendance quadratique**\n",
    "  - Des **composantes saisonnières harmoniques** (sinus/cosinus)\n",
    "  \n",
    "- On trace la **série des résidus dans le temps** afin de :\n",
    "  - Visualiser leur stabilité\n",
    "  - Détecter d’éventuels **motifs persistants ou anomalies**\n",
    "\n",
    "---\n",
    "\n",
    "### Interprétation\n",
    "\n",
    "- Le graphe montre que les **résidus sont globalement centrés autour de 0**, ce qui est un **bon indicateur**.\n",
    "- Cependant, la variance n’est **pas homogène** tout au long de la série :\n",
    "  - Une **augmentation de l’amplitude** est visible vers la fin de la période.\n",
    "  \n",
    "- Cela suggère que le modèle ne capture pas **toutes les dynamiques** sous-jacentes :\n",
    "  - Possibilité d'une **dépendance temporelle résiduelle**\n",
    "  - Ou présence d’**hétéroscédasticité**\n",
    "\n",
    "---\n",
    "\n",
    "### Pourquoi c’est important\n",
    "\n",
    "Cette visualisation permet de :\n",
    "\n",
    "- Vérifier si les erreurs suivent un comportement de **bruit blanc** :\n",
    "  - Centrés\n",
    "  - Non corrélés\n",
    "  - Variance constante\n",
    "- Identifier la **nécessité d’un modèle plus complexe** :\n",
    "  - Par exemple : **ARIMA** sur les résidus\n",
    "  - Ou ajout d’une composante **GARCH** en cas de variance non constante\n",
    "- Préparer les prochaines étapes :\n",
    "  - **Test de stationnarité** (ADF test)\n",
    "  - **Ajustement d’un ARIMA** sur les résidus\n",
    "\n"
   ]
  },
  {
   "cell_type": "markdown",
   "id": "a77a600d-6ad0-486c-9655-e47e7b088420",
   "metadata": {},
   "source": [
    "### 5. Évaluation des résidus et ajustement final\n",
    "\n",
    "#### Objectif\n",
    "\n",
    "Vérifier si le **modèle final (Model3)** capture correctement la **structure temporelle** de la série en analysant ses **résidus** (partie non expliquée par le modèle).\n",
    "\n",
    "---\n",
    "\n",
    "### Pourquoi analyser les résidus ?\n",
    "\n",
    "Un **bon modèle de série temporelle** laisse des résidus qui se comportent comme un **bruit blanc stationnaire**, c’est-à-dire :\n",
    "\n",
    "- **Centrés autour de zéro**\n",
    "- **Sans tendance ni structure apparente**\n",
    "- **Sans autocorrélation** (pas de dépendance dans le temps)\n",
    "- **Variance constante** (homoscédasticité)\n",
    "\n",
    "> Si ces conditions sont remplies, cela signifie que le modèle a **expliqué toute l'information systématique** présente dans la série.\n",
    "\n",
    "---\n",
    "\n",
    "### Étapes à réaliser\n",
    "\n",
    "1. **Visualisation des résidus dans le temps**\n",
    "   - Pour détecter toute tendance ou hétéroscédasticité résiduelle.\n",
    "\n",
    "2. **ACF / PACF des résidus**\n",
    "   - Pour vérifier l'absence d'autocorrélation.\n",
    "\n",
    "3. **Test de stationnarité (ADF test)**\n",
    "   - Pour confirmer que les résidus sont bien stationnaires.\n",
    "\n",
    "4. **(Si nécessaire)** : ajuster un **modèle ARIMA** sur les résidus restants pour modéliser la structure stochastique résiduelle.\n",
    "\n",
    "---\n",
    "\n",
    "### Conclusion attendue\n",
    "\n",
    "> Si les résidus se comportent comme un **bruit blanc**, alors `Model3` est un bon modèle explicatif.  \n",
    "> Sinon, un **raffinement du modèle** est requis (ex. ARIMA sur les résidus ou modèle SARIMAX).\n"
   ]
  },
  {
   "cell_type": "code",
   "execution_count": 26,
   "id": "89384b8b-82c1-473d-ad74-fc69e9792447",
   "metadata": {},
   "outputs": [
    {
     "name": "stderr",
     "output_type": "stream",
     "text": [
      "Warning message:\n",
      "\"package 'tseries' was built under R version 3.6.3\"\n",
      "Warning message in adf.test(resid(Model3)):\n",
      "\"p-value smaller than printed p-value\"\n"
     ]
    },
    {
     "data": {
      "text/plain": [
       "\n",
       "\tAugmented Dickey-Fuller Test\n",
       "\n",
       "data:  resid(Model3)\n",
       "Dickey-Fuller = -13.735, Lag order = 24, p-value = 0.01\n",
       "alternative hypothesis: stationary\n"
      ]
     },
     "metadata": {},
     "output_type": "display_data"
    }
   ],
   "source": [
    "library(tseries)\n",
    "adf.test(resid(Model3))"
   ]
  },
  {
   "cell_type": "markdown",
   "id": "c51ff6ee-1615-44d2-baf6-d3d683dcfe1e",
   "metadata": {},
   "source": [
    "### Résultat du test ADF (Augmented Dickey-Fuller)\n",
    "\n",
    "- **Statistique ADF** : -13.735  \n",
    "- **p-value** : 0.01\n",
    "\n",
    "---\n",
    "\n",
    "### Interprétation\n",
    "\n",
    "On rejette l’hypothèse nulle de non-stationnarité à un seuil de 1 %.  \n",
    "Les **résidus sont donc stationnaires**, ce qui est une condition nécessaire pour l’ajustement d’un **modèle ARIMA**.\n",
    "\n",
    "---\n",
    "\n",
    "### Conséquences\n",
    "\n",
    "- La stationnarité des résidus indique que la **structure moyenne** de la série a été correctement modélisée par `Model3`.\n",
    "- Il subsiste une **dépendance temporelle** visible dans l’ACF/PACF des résidus, que l’on peut **modéliser avec ARIMA** pour améliorer la qualité globale du modèle.\n"
   ]
  },
  {
   "cell_type": "code",
   "execution_count": 27,
   "id": "dd432dc1-d4e3-4ee9-a32d-e9accca42d15",
   "metadata": {},
   "outputs": [
    {
     "name": "stdout",
     "output_type": "stream",
     "text": [
      "Series: resid(Model3) \n",
      "ARIMA(2,0,5) with zero mean \n",
      "\n",
      "Coefficients:\n",
      "         ar1      ar2      ma1     ma2     ma3     ma4     ma5\n",
      "      1.3895  -0.5415  -0.3433  0.1660  0.1766  0.1380  0.0182\n",
      "s.e.  0.0348   0.0280   0.0358  0.0124  0.0120  0.0125  0.0134\n",
      "\n",
      "sigma^2 estimated as 24.93:  log likelihood=-42703.97\n",
      "AIC=85423.93   AICc=85423.94   BIC=85484.37\n",
      "\n",
      "Training set error measures:\n",
      "                        ME     RMSE     MAE      MPE     MAPE      MASE\n",
      "Training set -0.0002151285 4.991298 3.66639 17.21784 156.1621 0.9186519\n",
      "                     ACF1\n",
      "Training set 7.511921e-05\n"
     ]
    }
   ],
   "source": [
    "library(forecast)\n",
    "fit_resid <- auto.arima(resid(Model3))\n",
    "summary(fit_resid)"
   ]
  },
  {
   "cell_type": "markdown",
   "id": "211837d6-99bc-4b05-a69e-2a22c26cbfe7",
   "metadata": {},
   "source": [
    "### Modèle retenu : ARIMA(2,0,5)\n",
    "\n",
    "Ce modèle inclut :\n",
    "\n",
    "- **2 composantes autorégressives** : AR(1) et AR(2)\n",
    "- **5 composantes de moyenne mobile** : MA(1) à MA(5)\n",
    "- **Pas de tendance** (modèle à moyenne nulle)\n",
    "\n",
    "---\n",
    "\n",
    "### Performances du modèle\n",
    "\n",
    "- **Variance résiduelle estimée (σ²)** : 24.93  \n",
    "  → Représente la dispersion des résidus du modèle ARIMA.\n",
    "\n",
    "- **Critères d'information** :\n",
    "  - AIC et BIC faibles → indicateurs favorables pour la qualité du modèle\n",
    "\n",
    "- **Erreurs de prévision** :\n",
    "  - RMSE ≈ 4.99  \n",
    "  - MAPE ≈ 156.16  \n",
    "    → Cette valeur élevée peut s'expliquer par la nature des données (valeurs proches de zéro à certains moments, effet de distorsion).\n",
    "\n",
    "---\n",
    "\n",
    "### Pourquoi cette étape est essentielle\n",
    "\n",
    "- Permet de **vérifier si les résidus** du modèle principal contiennent encore de l’information **structurelle non modélisée**.\n",
    "- Améliore les **performances prédictives globales** grâce à un **modèle hybride** :\n",
    "  - **Prévision finale = Régression (Model3) + ARIMA (résidus)**\n",
    "\n",
    "- Si les résidus sont autocorrélés, cela signifie que **le modèle principal est incomplet**.\n",
    "\n",
    "---\n",
    "\n",
    "### En résumé\n",
    "\n",
    "L’analyse montre que `Model3` produit des **résidus stationnaires**, mais qui présentent encore une **structure autocorrélée**.  \n",
    "Cette structure est efficacement modélisée par un **ARIMA(2,0,5)**, ce qui valide une **approche modulaire** :\n",
    "\n",
    "- **Tendance**\n",
    "- **S**\n"
   ]
  },
  {
   "cell_type": "code",
   "execution_count": 28,
   "id": "3d81d205-fca3-4d36-980b-53796170c176",
   "metadata": {},
   "outputs": [
    {
     "data": {
      "image/png": "[encoded data removed]",
      "text/plain": [
       "Plot with title \"ACF des résidus ARIMA\""
      ]
     },
     "metadata": {
      "image/png": {
       "height": 420,
       "width": 420
      }
     },
     "output_type": "display_data"
    },
    {
     "data": {
      "image/png": "[encoded data removed]",
      "text/plain": [
       "Plot with title \"PACF des résidus ARIMA\""
      ]
     },
     "metadata": {
      "image/png": {
       "height": 420,
       "width": 420
      }
     },
     "output_type": "display_data"
    }
   ],
   "source": [
    "# Affichage ACF et PACF des résidus du modèle ARIMA\n",
    "acf(resid(fit_resid), main=\"ACF des résidus ARIMA\")\n",
    "pacf(resid(fit_resid), main=\"PACF des résidus ARIMA\")"
   ]
  },
  {
   "cell_type": "markdown",
   "id": "195e52a2-ab09-4aaa-96bf-92d889f27db1",
   "metadata": {},
   "source": [
    "### Modèle retenu : ARIMA(2,0,5)\n",
    "\n",
    "Ce modèle inclut :\n",
    "\n",
    "- **2 composantes autorégressives** : AR(1) et AR(2)\n",
    "- **5 composantes de moyenne mobile** : MA(1) à MA(5)\n",
    "- **Sans tendance** (modèle à moyenne nulle)\n",
    "\n",
    "---\n",
    "\n",
    "### Performances du modèle\n",
    "\n",
    "- **Variance résiduelle estimée (σ²)** : 24.93  \n",
    "  → Mesure la dispersion des résidus du modèle ARIMA.\n",
    "\n",
    "- **Critères d'information** :\n",
    "  - AIC et BIC faibles, ce qui indique une bonne qualité d'ajustement.\n",
    "\n",
    "- **Erreurs de prévision** :\n",
    "  - **RMSE** ≈ 4.99\n",
    "  - **MAPE** ≈ 156.16  \n",
    "    → Valeur relativement élevée, à interpréter avec précaution selon l’échelle et la distribution des données (ex. valeurs proches de zéro).\n",
    "\n",
    "---\n",
    "\n",
    "### Pourquoi cette étape est essentielle\n",
    "\n",
    "- Elle permet de **vérifier si les résidus** du modèle de régression contiennent encore de **l'information structurelle**.\n",
    "- Elle améliore les **performances de prévision** grâce à un **modèle hybride** :\n",
    "  \n",
    "  > Prévision finale = Régression (Model3) + ARIMA (résidus)\n",
    "\n",
    "- Si les résidus sont autocorrélés, cela signifie que le modèle principal **n’explique pas entièrement la dépendance temporelle**.\n",
    "\n",
    "---\n",
    "\n",
    "### En résumé\n",
    "\n",
    "L’analyse montre que le modèle `Model3` fournit des **résidus stationnaires**, mais qui présentent une **structure autocorrélée**.  \n",
    "Cette structure est corrigée efficacement avec un **ARIMA(2,0,5)**, ce qui valide une **approche modulaire** classique en séries temporelles :\n",
    "\n",
    "- Tendance  \n",
    "- Saisonnalité  \n",
    "- Composante stochastique (ARIMA)\n",
    "\n",
    "Ce type de modélisation mixte est courant et pertinent dans le traitement de **séries temporelles complexes**, où la dynamique n’est pas entièrement capturable par une seule classe de modèles.\n"
   ]
  },
  {
   "cell_type": "markdown",
   "id": "22338989-538d-4ecb-90d2-239e3adb4c11",
   "metadata": {},
   "source": [
    "### Step 6 – Prévision Finale (Régresseur + ARIMA)\n",
    "\n",
    "#### Objectif\n",
    "\n",
    "Combiner deux sources d'information complémentaires pour produire une prévision robuste du trafic horaire sur les prochaines 24 heures :\n",
    "\n",
    "- La **tendance déterministe** modélisée par la **régression linéaire** (`Model3`)\n",
    "- La **structure aléatoire résiduelle** modélisée par l'**ARIMA(2,0,5)**\n",
    "\n",
    "Cette approche permet de capturer à la fois :\n",
    "\n",
    "- Les **effets réguliers et récurrents** (tendance, saisonnalité horaire)\n",
    "- La **dépendance temporelle stochastique** (autocorrélations non modélisées par la régression)\n",
    "\n",
    "---\n",
    "\n",
    "### Prévision hybride\n",
    "\n",
    "La prévision finale s’obtient par **addition** des deux composantes :\n",
    "\n",
    "> **Prévision finale = prédiction régression + prédiction ARIMA des résidus**\n",
    "\n",
    "Cela permet de :\n",
    "\n",
    "- Corriger les biais de la régression avec la dynamique résiduelle\n",
    "- Obtenir des intervalles de confiance plus réalistes\n",
    "- Mieux capter l’évolution à court terme du trafic\n",
    "\n",
    "---\n",
    "\n",
    "### Portée\n",
    "\n",
    "La prévision porte ici sur les **24 prochaines heures** (soit 24 observations horaires).  \n",
    "Elle peut être mise à jour dynamiquement en recalculant les composantes à chaque nouvelle observation.\n"
   ]
  },
  {
   "cell_type": "code",
   "execution_count": 34,
   "id": "2a884341-6fa4-4a7e-8106-df492af649a2",
   "metadata": {},
   "outputs": [
    {
     "name": "stdout",
     "output_type": "stream",
     "text": [
      "'data.frame':\t24 obs. of  2 variables:\n",
      " $ t     : num  14110 14111 14112 14113 14114 ...\n",
      " $ I.t.2.: num  1.99e+08 1.99e+08 1.99e+08 1.99e+08 1.99e+08 ...\n"
     ]
    },
    {
     "data": {
      "text/plain": [
       "vehicles_ts ~ s.t + I(s.t^2) + DV\n",
       "attr(,\"variables\")\n",
       "list(vehicles_ts, s.t, I(s.t^2), DV)\n",
       "attr(,\"factors\")\n",
       "            s.t I(s.t^2) DV\n",
       "vehicles_ts   0        0  0\n",
       "s.t           1        0  0\n",
       "I(s.t^2)      0        1  0\n",
       "DV            0        0  1\n",
       "attr(,\"term.labels\")\n",
       "[1] \"s.t\"      \"I(s.t^2)\" \"DV\"      \n",
       "attr(,\"order\")\n",
       "[1] 1 1 1\n",
       "attr(,\"intercept\")\n",
       "[1] 1\n",
       "attr(,\"response\")\n",
       "[1] 1\n",
       "attr(,\".Environment\")\n",
       "<environment: R_GlobalEnv>\n",
       "attr(,\"predvars\")\n",
       "list(vehicles_ts, s.t, I(s.t^2), DV)\n",
       "attr(,\"dataClasses\")\n",
       " vehicles_ts          s.t     I(s.t^2)           DV \n",
       "   \"numeric\"    \"numeric\"    \"numeric\" \"nmatrix.23\" "
      ]
     },
     "metadata": {},
     "output_type": "display_data"
    }
   ],
   "source": [
    "str(new_data)\n",
    "terms(Model3)"
   ]
  },
  {
   "cell_type": "code",
   "execution_count": 35,
   "id": "041d67cf-4d37-4545-83c5-d9a78a3e6adb",
   "metadata": {},
   "outputs": [],
   "source": [
    "Model3 <- lm(Vehicles ~ t + I(t^2), data = df_j1)"
   ]
  },
  {
   "cell_type": "code",
   "execution_count": 36,
   "id": "a46a0a91-9a60-462a-b4db-bc02f8453374",
   "metadata": {},
   "outputs": [],
   "source": [
    "n_ahead <- 24\n",
    "df_j1$t <- seq_len(nrow(df_j1))\n",
    "last_t <- max(df_j1$t)\n",
    "new_t <- seq(from = last_t + 1, by = 1, length.out = n_ahead)\n",
    "new_data <- data.frame(\n",
    "  t = new_t,\n",
    "  \"I(t^2)\" = new_t^2\n",
    ")\n",
    "pred_reg <- predict(Model3, newdata = new_data)"
   ]
  },
  {
   "cell_type": "code",
   "execution_count": 55,
   "id": "d6180a67-c64f-45ca-a308-e05bc8224f8b",
   "metadata": {},
   "outputs": [],
   "source": [
    "# Après avoir ajusté Model3 :\n",
    "resid_reg <- residuals(Model3)\n",
    "fit_arima <- auto.arima(resid_reg)\n",
    "pred_arima <- forecast(fit_arima, h = 24)$mean"
   ]
  },
  {
   "cell_type": "code",
   "execution_count": 56,
   "id": "b54133de-cb8e-4cc4-aad4-fb7751867688",
   "metadata": {},
   "outputs": [],
   "source": [
    "fit_arima <- auto.arima(df_j1$Vehicles)\n",
    "pred_arima <- forecast(fit_arima, h = 24)$mean"
   ]
  },
  {
   "cell_type": "code",
   "execution_count": 57,
   "id": "9e5e3cee-b3d2-4b95-960c-72969f47fa3d",
   "metadata": {},
   "outputs": [
    {
     "data": {
      "text/html": [
       "14109"
      ],
      "text/latex": [
       "14109"
      ],
      "text/markdown": [
       "14109"
      ],
      "text/plain": [
       "[1] 14109"
      ]
     },
     "metadata": {},
     "output_type": "display_data"
    },
    {
     "data": {
      "text/html": [
       "24"
      ],
      "text/latex": [
       "24"
      ],
      "text/markdown": [
       "24"
      ],
      "text/plain": [
       "[1] 24"
      ]
     },
     "metadata": {},
     "output_type": "display_data"
    }
   ],
   "source": [
    "length(pred_reg)   # doit afficher 24\n",
    "length(pred_arima) # doit afficher 24"
   ]
  },
  {
   "cell_type": "code",
   "execution_count": 58,
   "id": "a1f1cd8b-bf78-40ab-9ee6-4d1ba0092cbb",
   "metadata": {},
   "outputs": [
    {
     "data": {
      "text/html": [
       "<ol class=list-inline>\n",
       "\t<li>24</li>\n",
       "\t<li>25</li>\n",
       "</ol>\n"
      ],
      "text/latex": [
       "\\begin{enumerate*}\n",
       "\\item 24\n",
       "\\item 25\n",
       "\\end{enumerate*}\n"
      ],
      "text/markdown": [
       "1. 24\n",
       "2. 25\n",
       "\n",
       "\n"
      ],
      "text/plain": [
       "[1] 24 25"
      ]
     },
     "metadata": {},
     "output_type": "display_data"
    },
    {
     "data": {
      "text/html": [
       "<ol class=list-inline>\n",
       "\t<li>'s.t'</li>\n",
       "\t<li>'I.s.t.2.'</li>\n",
       "\t<li>'DV1'</li>\n",
       "\t<li>'DV2'</li>\n",
       "\t<li>'DV3'</li>\n",
       "\t<li>'DV4'</li>\n",
       "\t<li>'DV5'</li>\n",
       "\t<li>'DV6'</li>\n",
       "\t<li>'DV7'</li>\n",
       "\t<li>'DV8'</li>\n",
       "\t<li>'DV9'</li>\n",
       "\t<li>'DV10'</li>\n",
       "\t<li>'DV11'</li>\n",
       "\t<li>'DV12'</li>\n",
       "\t<li>'DV13'</li>\n",
       "\t<li>'DV14'</li>\n",
       "\t<li>'DV15'</li>\n",
       "\t<li>'DV16'</li>\n",
       "\t<li>'DV17'</li>\n",
       "\t<li>'DV18'</li>\n",
       "\t<li>'DV19'</li>\n",
       "\t<li>'DV20'</li>\n",
       "\t<li>'DV21'</li>\n",
       "\t<li>'DV22'</li>\n",
       "\t<li>'DV23'</li>\n",
       "</ol>\n"
      ],
      "text/latex": [
       "\\begin{enumerate*}\n",
       "\\item 's.t'\n",
       "\\item 'I.s.t.2.'\n",
       "\\item 'DV1'\n",
       "\\item 'DV2'\n",
       "\\item 'DV3'\n",
       "\\item 'DV4'\n",
       "\\item 'DV5'\n",
       "\\item 'DV6'\n",
       "\\item 'DV7'\n",
       "\\item 'DV8'\n",
       "\\item 'DV9'\n",
       "\\item 'DV10'\n",
       "\\item 'DV11'\n",
       "\\item 'DV12'\n",
       "\\item 'DV13'\n",
       "\\item 'DV14'\n",
       "\\item 'DV15'\n",
       "\\item 'DV16'\n",
       "\\item 'DV17'\n",
       "\\item 'DV18'\n",
       "\\item 'DV19'\n",
       "\\item 'DV20'\n",
       "\\item 'DV21'\n",
       "\\item 'DV22'\n",
       "\\item 'DV23'\n",
       "\\end{enumerate*}\n"
      ],
      "text/markdown": [
       "1. 's.t'\n",
       "2. 'I.s.t.2.'\n",
       "3. 'DV1'\n",
       "4. 'DV2'\n",
       "5. 'DV3'\n",
       "6. 'DV4'\n",
       "7. 'DV5'\n",
       "8. 'DV6'\n",
       "9. 'DV7'\n",
       "10. 'DV8'\n",
       "11. 'DV9'\n",
       "12. 'DV10'\n",
       "13. 'DV11'\n",
       "14. 'DV12'\n",
       "15. 'DV13'\n",
       "16. 'DV14'\n",
       "17. 'DV15'\n",
       "18. 'DV16'\n",
       "19. 'DV17'\n",
       "20. 'DV18'\n",
       "21. 'DV19'\n",
       "22. 'DV20'\n",
       "23. 'DV21'\n",
       "24. 'DV22'\n",
       "25. 'DV23'\n",
       "\n",
       "\n"
      ],
      "text/plain": [
       " [1] \"s.t\"      \"I.s.t.2.\" \"DV1\"      \"DV2\"      \"DV3\"      \"DV4\"     \n",
       " [7] \"DV5\"      \"DV6\"      \"DV7\"      \"DV8\"      \"DV9\"      \"DV10\"    \n",
       "[13] \"DV11\"     \"DV12\"     \"DV13\"     \"DV14\"     \"DV15\"     \"DV16\"    \n",
       "[19] \"DV17\"     \"DV18\"     \"DV19\"     \"DV20\"     \"DV21\"     \"DV22\"    \n",
       "[25] \"DV23\"    "
      ]
     },
     "metadata": {},
     "output_type": "display_data"
    }
   ],
   "source": [
    "dim(new_data)        # doit afficher 24 25\n",
    "names(new_data)      # doit afficher \"s.t\", \"I(s.t^2)\", \"DV1\", ..., \"DV23\""
   ]
  },
  {
   "cell_type": "code",
   "execution_count": 59,
   "id": "47d7be83-9ab3-4124-9a26-24c34a7f27ac",
   "metadata": {},
   "outputs": [
    {
     "data": {
      "text/html": [
       "<ol class=list-inline>\n",
       "\t<li>'(Intercept)'</li>\n",
       "\t<li>'t'</li>\n",
       "\t<li>'I(t^2)'</li>\n",
       "</ol>\n"
      ],
      "text/latex": [
       "\\begin{enumerate*}\n",
       "\\item '(Intercept)'\n",
       "\\item 't'\n",
       "\\item 'I(t\\textasciicircum{}2)'\n",
       "\\end{enumerate*}\n"
      ],
      "text/markdown": [
       "1. '(Intercept)'\n",
       "2. 't'\n",
       "3. 'I(t^2)'\n",
       "\n",
       "\n"
      ],
      "text/plain": [
       "[1] \"(Intercept)\" \"t\"           \"I(t^2)\"     "
      ]
     },
     "metadata": {},
     "output_type": "display_data"
    }
   ],
   "source": [
    "names(coefficients(Model3))"
   ]
  },
  {
   "cell_type": "code",
   "execution_count": 60,
   "id": "1ebc897b-d567-4a90-98f3-d9c6ff601ff9",
   "metadata": {},
   "outputs": [],
   "source": [
    "new_data <- data.frame(\n",
    "  t = future_st,                    # PAS s.t, mais t\n",
    "  \"I(t^2)\" = future_st^2,           # PAS I.s.t.2., mais I(t^2)\n",
    "  DV_future\n",
    ")"
   ]
  },
  {
   "cell_type": "code",
   "execution_count": 61,
   "id": "e5ba60f8-565a-49ec-b51c-e252af460c2f",
   "metadata": {},
   "outputs": [
    {
     "data": {
      "text/html": [
       "<ol class=list-inline>\n",
       "\t<li>'t'</li>\n",
       "\t<li>'I.t.2.'</li>\n",
       "\t<li>'DV1'</li>\n",
       "\t<li>'DV2'</li>\n",
       "\t<li>'DV3'</li>\n",
       "\t<li>'DV4'</li>\n",
       "\t<li>'DV5'</li>\n",
       "\t<li>'DV6'</li>\n",
       "\t<li>'DV7'</li>\n",
       "\t<li>'DV8'</li>\n",
       "\t<li>'DV9'</li>\n",
       "\t<li>'DV10'</li>\n",
       "\t<li>'DV11'</li>\n",
       "\t<li>'DV12'</li>\n",
       "\t<li>'DV13'</li>\n",
       "\t<li>'DV14'</li>\n",
       "\t<li>'DV15'</li>\n",
       "\t<li>'DV16'</li>\n",
       "\t<li>'DV17'</li>\n",
       "\t<li>'DV18'</li>\n",
       "\t<li>'DV19'</li>\n",
       "\t<li>'DV20'</li>\n",
       "\t<li>'DV21'</li>\n",
       "\t<li>'DV22'</li>\n",
       "\t<li>'DV23'</li>\n",
       "</ol>\n"
      ],
      "text/latex": [
       "\\begin{enumerate*}\n",
       "\\item 't'\n",
       "\\item 'I.t.2.'\n",
       "\\item 'DV1'\n",
       "\\item 'DV2'\n",
       "\\item 'DV3'\n",
       "\\item 'DV4'\n",
       "\\item 'DV5'\n",
       "\\item 'DV6'\n",
       "\\item 'DV7'\n",
       "\\item 'DV8'\n",
       "\\item 'DV9'\n",
       "\\item 'DV10'\n",
       "\\item 'DV11'\n",
       "\\item 'DV12'\n",
       "\\item 'DV13'\n",
       "\\item 'DV14'\n",
       "\\item 'DV15'\n",
       "\\item 'DV16'\n",
       "\\item 'DV17'\n",
       "\\item 'DV18'\n",
       "\\item 'DV19'\n",
       "\\item 'DV20'\n",
       "\\item 'DV21'\n",
       "\\item 'DV22'\n",
       "\\item 'DV23'\n",
       "\\end{enumerate*}\n"
      ],
      "text/markdown": [
       "1. 't'\n",
       "2. 'I.t.2.'\n",
       "3. 'DV1'\n",
       "4. 'DV2'\n",
       "5. 'DV3'\n",
       "6. 'DV4'\n",
       "7. 'DV5'\n",
       "8. 'DV6'\n",
       "9. 'DV7'\n",
       "10. 'DV8'\n",
       "11. 'DV9'\n",
       "12. 'DV10'\n",
       "13. 'DV11'\n",
       "14. 'DV12'\n",
       "15. 'DV13'\n",
       "16. 'DV14'\n",
       "17. 'DV15'\n",
       "18. 'DV16'\n",
       "19. 'DV17'\n",
       "20. 'DV18'\n",
       "21. 'DV19'\n",
       "22. 'DV20'\n",
       "23. 'DV21'\n",
       "24. 'DV22'\n",
       "25. 'DV23'\n",
       "\n",
       "\n"
      ],
      "text/plain": [
       " [1] \"t\"      \"I.t.2.\" \"DV1\"    \"DV2\"    \"DV3\"    \"DV4\"    \"DV5\"    \"DV6\"   \n",
       " [9] \"DV7\"    \"DV8\"    \"DV9\"    \"DV10\"   \"DV11\"   \"DV12\"   \"DV13\"   \"DV14\"  \n",
       "[17] \"DV15\"   \"DV16\"   \"DV17\"   \"DV18\"   \"DV19\"   \"DV20\"   \"DV21\"   \"DV22\"  \n",
       "[25] \"DV23\"  "
      ]
     },
     "metadata": {},
     "output_type": "display_data"
    }
   ],
   "source": [
    "names(new_data)\n",
    "# Doit afficher \"t\", \"I(t^2)\", \"DV1\", ..., \"DV23\""
   ]
  },
  {
   "cell_type": "code",
   "execution_count": 62,
   "id": "6fdbc8eb-ca60-4570-a967-92b621d829ac",
   "metadata": {},
   "outputs": [
    {
     "data": {
      "text/html": [
       "24"
      ],
      "text/latex": [
       "24"
      ],
      "text/markdown": [
       "24"
      ],
      "text/plain": [
       "[1] 24"
      ]
     },
     "metadata": {},
     "output_type": "display_data"
    }
   ],
   "source": [
    "pred_reg <- predict(Model3, newdata = new_data)\n",
    "length(pred_reg) # doit afficher 24"
   ]
  },
  {
   "cell_type": "code",
   "execution_count": 63,
   "id": "a3aa19f6-f043-4129-a9da-ed6d6bc7d33c",
   "metadata": {},
   "outputs": [],
   "source": [
    "pred_final <- pred_reg + pred_arima"
   ]
  },
  {
   "cell_type": "code",
   "execution_count": 64,
   "id": "5f0f0adf-dfb9-43bc-9f93-6ec9d39c759b",
   "metadata": {},
   "outputs": [
    {
     "name": "stdout",
     "output_type": "stream",
     "text": [
      "Time Series:\n",
      "Start = 14110 \n",
      "End = 14133 \n",
      "Frequency = 1 \n",
      "       1        2        3        4        5        6        7        8 \n",
      "130.3706 119.9039 114.0399 114.0346 119.5766 128.8353 139.0764 147.4514 \n",
      "       9       10       11       12       13       14       15       16 \n",
      "151.7832 151.1207 145.9291 137.8820 129.3370 122.6532 119.5483 120.6663 \n",
      "      17       18       19       20       21       22       23       24 \n",
      "125.4630 132.4218 139.5229 144.8221 146.9773 145.5801 141.2139 135.2388 \n"
     ]
    },
    {
     "data": {
      "image/png": "[encoded data removed]",
      "text/plain": [
       "Plot with title \"Prévision finale (régression + ARIMA)\""
      ]
     },
     "metadata": {
      "image/png": {
       "height": 420,
       "width": 420
      }
     },
     "output_type": "display_data"
    }
   ],
   "source": [
    "print(pred_final)\n",
    "plot(pred_final, type=\"l\", main=\"Prévision finale (régression + ARIMA)\")"
   ]
  },
  {
   "cell_type": "markdown",
   "id": "6b359ba3-bad6-4cc2-b9ba-3fed68e9e811",
   "metadata": {},
   "source": [
    "### Ce qu'on a fait\n",
    "\n",
    "1. **Génération de nouvelles données temporelles**  \n",
    "   Une table `new_data` a été construite pour représenter les 24 prochaines heures, incluant :\n",
    "   - La variable temporelle `t`\n",
    "   - Son carré `t²` (pour la tendance quadratique)\n",
    "   - Les dummies saisonnières `DV1` à `DV23` (comme dans les données d'entraînement)\n",
    "\n",
    "2. **Application du modèle de régression (`Model3`)**  \n",
    "   Le modèle linéaire a été utilisé pour produire une première prédiction (`pred_reg`) basée sur la tendance et la saisonnalité.\n",
    "\n",
    "3. **Modélisation des résidus via ARIMA**  \n",
    "   - Les résidus de `Model3` ont été extraits.\n",
    "   - Un modèle ARIMA a été ajusté automatiquement via `auto.arima()`.\n",
    "   - Une prévision sur 24 pas a été générée (`pred_arima`).\n",
    "\n",
    "4. **Fusion des prédictions**  \n",
    "   Les deux composantes ont été additionnées pour construire la **prévision finale hybride** :  \n",
    "   `pred_final = pred_reg + pred_arima`.\n",
    "\n",
    "5. **Visualisation de la prévision finale**  \n",
    "   Un graphique a été produit pour montrer l’évolution attendue du trafic horaire au cours des 24 prochaines heures.\n",
    "\n",
    "---\n",
    "\n",
    "### Pourquoi cette approche ?\n",
    "\n",
    "- Les séries temporelles sont souvent influencées par plusieurs composantes :  \n",
    "  **tendance**, **saisonnalité**, et **bruit aléatoire**.\n",
    "- En séparant la **structure déterministe** (modèle de régression) de la **structure stochastique** (ARIMA), on obtient des prévisions :\n",
    "  - Plus **robustes**\n",
    "  - Plus **précises**\n",
    "  - Plus **interprétables**\n",
    "- Cette approche capte les **motifs réguliers** tout en corrigeant les **dépendances résiduelles** non modélisées.\n",
    "\n",
    "---\n",
    "\n",
    "### Interprétation des résultats\n",
    "\n",
    "- La **courbe prédite** montre un **comportement cyclique régulier**, conforme aux rythmes horaires typiques du trafic urbain.\n",
    "- Les **valeurs prévues** sont cohérentes et réalistes, sans anomalies extrêmes.\n",
    "- La structure capturée reflète bien les **pics journaliers** (matin et soir), indiquant une bonne efficacité des dummies horaires dans la modélisation de la saisonnalité.\n",
    "\n",
    "---\n",
    "\n",
    "### Conclusion\n",
    "\n",
    "Cette **prédiction hybride** permet une modélisation **fine**, **explicable**, et **réaliste** du trafic horaire.  \n",
    "Elle constitue un outil pertinent pour les **systèmes de gestion urbaine intelligents**, en aidant à anticiper la **congestion** et à optimiser les **décisions en temps réel**.\n"
   ]
  },
  {
   "cell_type": "code",
   "execution_count": null,
   "id": "5cb87223-4f39-49e4-aa9d-d8ddcbbe99b9",
   "metadata": {},
   "outputs": [],
   "source": []
  }
 ],
 "metadata": {
  "kernelspec": {
   "display_name": "R",
   "language": "R",
   "name": "ir"
  },
  "language_info": {
   "codemirror_mode": "r",
   "file_extension": ".r",
   "mimetype": "text/x-r-source",
   "name": "R",
   "pygments_lexer": "r",
   "version": "4.1.3"
  }
 },
 "nbformat": 4,
 "nbformat_minor": 5
}
